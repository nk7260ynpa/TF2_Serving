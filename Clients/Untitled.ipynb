{
 "cells": [
  {
   "cell_type": "code",
   "execution_count": 1,
   "metadata": {},
   "outputs": [],
   "source": [
    "import tensorflow as tf\n",
    "from tensorflow import keras\n",
    "\n",
    "# Helper libraries\n",
    "import numpy as np\n",
    "import matplotlib.pyplot as plt\n",
    "import os\n",
    "import subprocess\n",
    "import base64\n",
    "os.environ[\"CUDA_VISIBLE_DEVICES\"] = \"5\""
   ]
  },
  {
   "cell_type": "code",
   "execution_count": 28,
   "metadata": {},
   "outputs": [],
   "source": [
    "a = tf.io.read_file(\"/raid/peterchen/datasets/faces/0000fdee4208b8b7e12074c920bc6166-0.jpg\")"
   ]
  },
  {
   "cell_type": "code",
   "execution_count": 35,
   "metadata": {},
   "outputs": [],
   "source": [
    "img_1 = tf.image.decode_jpeg(a)"
   ]
  },
  {
   "cell_type": "code",
   "execution_count": 41,
   "metadata": {},
   "outputs": [
    {
     "data": {
      "text/plain": [
       "<tf.Tensor: shape=(10, 10), dtype=uint8, numpy=\n",
       "array([[ 83,  84,  80,  78,  80,  83,  88,  89,  84,  71],\n",
       "       [ 85,  78,  71,  71,  77,  89,  91,  80,  63,  59],\n",
       "       [ 79,  63,  54,  61,  68,  78,  80,  69,  63,  67],\n",
       "       [ 58,  51,  51,  69,  84,  89,  87,  76,  72,  72],\n",
       "       [ 44,  68,  85,  98, 108, 111, 107, 100,  90,  80],\n",
       "       [ 73, 103, 118, 118, 117, 117, 117, 120, 111,  96],\n",
       "       [114, 123, 122, 122, 123, 121, 117, 112, 115, 114],\n",
       "       [115, 125, 129, 126, 122, 119, 108,  91,  87,  77],\n",
       "       [121, 132, 139, 123, 102,  85,  64,  48,  44,  45],\n",
       "       [121, 110,  94,  73,  65,  71,  66,  55,  48,  41]], dtype=uint8)>"
      ]
     },
     "execution_count": 41,
     "metadata": {},
     "output_type": "execute_result"
    }
   ],
   "source": [
    "img_1[:10, :10, 0]"
   ]
  },
  {
   "cell_type": "code",
   "execution_count": 31,
   "metadata": {},
   "outputs": [],
   "source": [
    "with open(\"/raid/peterchen/datasets/faces/0000fdee4208b8b7e12074c920bc6166-0.jpg\", \"rb\") as img_file:\n",
    "    encoded_string = str(base64.urlsafe_b64encode(img_file.read()), \"utf-8\")"
   ]
  },
  {
   "cell_type": "code",
   "execution_count": 37,
   "metadata": {},
   "outputs": [],
   "source": [
    "img_2 = tf.image.decode_jpeg(tf.io.decode_base64(encoded_string))"
   ]
  },
  {
   "cell_type": "code",
   "execution_count": 40,
   "metadata": {},
   "outputs": [
    {
     "data": {
      "text/plain": [
       "<tf.Tensor: shape=(10, 10), dtype=uint8, numpy=\n",
       "array([[ 83,  84,  80,  78,  80,  83,  88,  89,  84,  71],\n",
       "       [ 85,  78,  71,  71,  77,  89,  91,  80,  63,  59],\n",
       "       [ 79,  63,  54,  61,  68,  78,  80,  69,  63,  67],\n",
       "       [ 58,  51,  51,  69,  84,  89,  87,  76,  72,  72],\n",
       "       [ 44,  68,  85,  98, 108, 111, 107, 100,  90,  80],\n",
       "       [ 73, 103, 118, 118, 117, 117, 117, 120, 111,  96],\n",
       "       [114, 123, 122, 122, 123, 121, 117, 112, 115, 114],\n",
       "       [115, 125, 129, 126, 122, 119, 108,  91,  87,  77],\n",
       "       [121, 132, 139, 123, 102,  85,  64,  48,  44,  45],\n",
       "       [121, 110,  94,  73,  65,  71,  66,  55,  48,  41]], dtype=uint8)>"
      ]
     },
     "execution_count": 40,
     "metadata": {},
     "output_type": "execute_result"
    }
   ],
   "source": [
    "img_2[:10, :10, 0]"
   ]
  },
  {
   "cell_type": "code",
   "execution_count": 2,
   "metadata": {},
   "outputs": [],
   "source": [
    "class newmodel(tf.keras.Model):\n",
    "    \n",
    "    @tf.function(input_signature=[tf.TensorSpec([None, 224, 224, 3], tf.float32)])\n",
    "    def aaa(self, inputs):\n",
    "        return self.call(inputs)"
   ]
  },
  {
   "cell_type": "code",
   "execution_count": 3,
   "metadata": {},
   "outputs": [],
   "source": [
    "base_model = tf.keras.applications.ResNet50(input_shape=(224,224,3), weights='imagenet', include_top=False)\n",
    "x = base_model.output\n",
    "x = tf.keras.layers.GlobalAveragePooling2D()(x)\n",
    "predictions = tf.keras.layers.Dense(9, activation='softmax', name=\"dense_1\")(x)\n",
    "model = newmodel(inputs=base_model.input, outputs=predictions)"
   ]
  },
  {
   "cell_type": "code",
   "execution_count": 2,
   "metadata": {},
   "outputs": [],
   "source": [
    "base_model = tf.keras.applications.ResNet50(input_shape=(224,224,3), weights='imagenet', include_top=False)\n",
    "x = base_model.output\n",
    "x = tf.keras.layers.GlobalAveragePooling2D()(x)\n",
    "predictions = tf.keras.layers.Dense(9, activation='softmax', name=\"dense_1\")(x)\n",
    "model = tf.keras.Model(inputs=base_model.input, outputs=predictions)"
   ]
  },
  {
   "cell_type": "code",
   "execution_count": 4,
   "metadata": {},
   "outputs": [],
   "source": [
    "a = tf.random.normal((2, 224, 224, 3))"
   ]
  },
  {
   "cell_type": "code",
   "execution_count": 5,
   "metadata": {},
   "outputs": [
    {
     "data": {
      "text/plain": [
       "<tf.Tensor: shape=(2, 9), dtype=float32, numpy=\n",
       "array([[0.31272975, 0.1065359 , 0.02293057, 0.2384442 , 0.03485836,\n",
       "        0.02799994, 0.04830587, 0.08993848, 0.11825696],\n",
       "       [0.317799  , 0.09771063, 0.02268634, 0.24652931, 0.03639748,\n",
       "        0.02983676, 0.05015014, 0.08265486, 0.11623546]], dtype=float32)>"
      ]
     },
     "execution_count": 5,
     "metadata": {},
     "output_type": "execute_result"
    }
   ],
   "source": [
    "zzz = model(a)\n",
    "zzz"
   ]
  },
  {
   "cell_type": "code",
   "execution_count": 8,
   "metadata": {},
   "outputs": [
    {
     "data": {
      "text/plain": [
       "<tf.Tensor: shape=(2, 9), dtype=float32, numpy=\n",
       "array([[0.31272966, 0.10653596, 0.02293058, 0.238444  , 0.03485838,\n",
       "        0.02799999, 0.04830588, 0.08993841, 0.11825705],\n",
       "       [0.31779832, 0.0977109 , 0.02268634, 0.2465294 , 0.03639755,\n",
       "        0.02983687, 0.05015014, 0.08265483, 0.11623567]], dtype=float32)>"
      ]
     },
     "execution_count": 8,
     "metadata": {},
     "output_type": "execute_result"
    }
   ],
   "source": [
    "zzz = model.aaa(a)\n",
    "zzz"
   ]
  },
  {
   "cell_type": "code",
   "execution_count": 2,
   "metadata": {},
   "outputs": [],
   "source": [
    "fashion_mnist = keras.datasets.fashion_mnist\n",
    "(train_images, train_labels), (test_images, test_labels) = fashion_mnist.load_data()\n",
    "\n",
    "# scale the values to 0.0 to 1.0\n",
    "train_images = train_images / 255.0\n",
    "test_images = test_images / 255.0\n",
    "\n",
    "# reshape for feeding into the model\n",
    "train_images = train_images.reshape(train_images.shape[0], 28, 28, 1)\n",
    "test_images = test_images.reshape(test_images.shape[0], 28, 28, 1)\n",
    "\n",
    "class_names = ['T-shirt/top', 'Trouser', 'Pullover', 'Dress', 'Coat',\n",
    "               'Sandal', 'Shirt', 'Sneaker', 'Bag', 'Ankle boot']"
   ]
  },
  {
   "cell_type": "code",
   "execution_count": 3,
   "metadata": {},
   "outputs": [
    {
     "data": {
      "image/png": "[encoded data removed]",
      "text/plain": [
       "<Figure size 432x288 with 1 Axes>"
      ]
     },
     "metadata": {
      "needs_background": "light"
     },
     "output_type": "display_data"
    }
   ],
   "source": [
    "def show(idx, title):\n",
    "    plt.figure()\n",
    "    plt.imshow(test_images[idx].reshape(28,28))\n",
    "    plt.axis('off')\n",
    "    plt.title('\\n\\n{}'.format(title), fontdict={'size': 16})\n",
    "\n",
    "import random\n",
    "rando = random.randint(0,len(test_images)-1)\n",
    "show(rando, 'An Example Image: {}'.format(class_names[test_labels[rando]]))"
   ]
  },
  {
   "cell_type": "code",
   "execution_count": 11,
   "metadata": {},
   "outputs": [
    {
     "name": "stdout",
     "output_type": "stream",
     "text": [
      "Data: {\"signature_name\": \"serving_default\", \"instances\": ...  [0.0], [0.0], [0.0], [0.0], [0.0], [0.0], [0.0]]]]}\n"
     ]
    }
   ],
   "source": [
    "import json\n",
    "data = json.dumps({\"signature_name\": \"serving_default\", \"instances\": test_images[0:3].tolist()})\n",
    "print('Data: {} ... {}'.format(data[:50], data[len(data)-52:]))"
   ]
  },
  {
   "cell_type": "code",
   "execution_count": 12,
   "metadata": {},
   "outputs": [
    {
     "data": {
      "image/png": "[encoded data removed]",
      "text/plain": [
       "<Figure size 432x288 with 1 Axes>"
      ]
     },
     "metadata": {
      "needs_background": "light"
     },
     "output_type": "display_data"
    }
   ],
   "source": [
    "import requests\n",
    "headers = {\"content-type\": \"application/json\"}\n",
    "json_response = requests.post('http://localhost:8510/v1/models/random_model:predict', data=data, headers=headers)\n",
    "predictions = json.loads(json_response.text)['predictions']\n",
    "\n",
    "show(0, 'The model thought this was a {} (class {}), and it was actually a {} (class {})'.format(\n",
    "  class_names[np.argmax(predictions[0])], np.argmax(predictions[0]), class_names[test_labels[0]], test_labels[0]))"
   ]
  },
  {
   "cell_type": "code",
   "execution_count": 6,
   "metadata": {},
   "outputs": [
    {
     "data": {
      "image/png": "[encoded data removed]",
      "text/plain": [
       "<Figure size 432x288 with 1 Axes>"
      ]
     },
     "metadata": {
      "needs_background": "light"
     },
     "output_type": "display_data"
    },
    {
     "data": {
      "image/png": "[encoded data removed]",
      "text/plain": [
       "<Figure size 432x288 with 1 Axes>"
      ]
     },
     "metadata": {
      "needs_background": "light"
     },
     "output_type": "display_data"
    },
    {
     "data": {
      "image/png": "[encoded data removed]",
      "text/plain": [
       "<Figure size 432x288 with 1 Axes>"
      ]
     },
     "metadata": {
      "needs_background": "light"
     },
     "output_type": "display_data"
    }
   ],
   "source": [
    "headers = {\"content-type\": \"application/json\"}\n",
    "json_response = requests.post('http://localhost:8510/v1/models/random_model/versions/1:predict', data=data, headers=headers)\n",
    "predictions = json.loads(json_response.text)['predictions']\n",
    "\n",
    "for i in range(0,3):\n",
    "  show(i, 'The model thought this was a {} (class {}), and it was actually a {} (class {})'.format(\n",
    "    class_names[np.argmax(predictions[i])], np.argmax(predictions[i]), class_names[test_labels[i]], test_labels[i]))"
   ]
  },
  {
   "cell_type": "code",
   "execution_count": 7,
   "metadata": {},
   "outputs": [
    {
     "data": {
      "text/plain": [
       "{'predictions': [[0.042338416,\n",
       "   0.282380193,\n",
       "   0.29117018,\n",
       "   -0.128007114,\n",
       "   0.163520217,\n",
       "   0.0521736518,\n",
       "   -0.0282262079,\n",
       "   -0.0398204476,\n",
       "   -0.0388575345,\n",
       "   -0.792301416],\n",
       "  [-0.61592871,\n",
       "   -0.088246,\n",
       "   0.0702090263,\n",
       "   0.0949368328,\n",
       "   0.58049047,\n",
       "   0.243097723,\n",
       "   1.12270069,\n",
       "   -0.484955192,\n",
       "   -0.285674125,\n",
       "   -1.13628542],\n",
       "  [-0.357848495,\n",
       "   0.137567744,\n",
       "   -0.0199025683,\n",
       "   -0.174600407,\n",
       "   0.571287155,\n",
       "   0.136958912,\n",
       "   0.486429781,\n",
       "   -0.954990745,\n",
       "   -0.18716678,\n",
       "   -0.212156758]]}"
      ]
     },
     "execution_count": 7,
     "metadata": {},
     "output_type": "execute_result"
    }
   ],
   "source": [
    "json.loads(json_response.text)"
   ]
  },
  {
   "cell_type": "code",
   "execution_count": null,
   "metadata": {},
   "outputs": [],
   "source": []
  }
 ],
 "metadata": {
  "kernelspec": {
   "display_name": "Python 3",
   "language": "python",
   "name": "python3"
  },
  "language_info": {
   "codemirror_mode": {
    "name": "ipython",
    "version": 3
   },
   "file_extension": ".py",
   "mimetype": "text/x-python",
   "name": "python",
   "nbconvert_exporter": "python",
   "pygments_lexer": "ipython3",
   "version": "3.7.9"
  }
 },
 "nbformat": 4,
 "nbformat_minor": 4
}
